{
  "nbformat": 4,
  "nbformat_minor": 0,
  "metadata": {
    "colab": {
      "provenance": [],
      "authorship_tag": "ABX9TyP24GPNH9QTXktgEuFxEa9g",
      "include_colab_link": true
    },
    "kernelspec": {
      "name": "python3",
      "display_name": "Python 3"
    },
    "language_info": {
      "name": "python"
    }
  },
  "cells": [
    {
      "cell_type": "markdown",
      "metadata": {
        "id": "view-in-github",
        "colab_type": "text"
      },
      "source": [
        "<a href=\"https://colab.research.google.com/github/abdu-h/MRAI/blob/main/MRAI.ipynb\" target=\"_parent\"><img src=\"https://colab.research.google.com/assets/colab-badge.svg\" alt=\"Open In Colab\"/></a>"
      ]
    },
    {
      "cell_type": "code",
      "source": [
        "!pip install openai\n",
        "!pip install requests\n",
        "!pip install requests"
      ],
      "metadata": {
        "id": "K5qDSR9Kh-Ez"
      },
      "execution_count": null,
      "outputs": []
    },
    {
      "cell_type": "code",
      "source": [
        "!pip install tiktoken"
      ],
      "metadata": {
        "id": "C5Q8HZeVlq6V"
      },
      "execution_count": null,
      "outputs": []
    },
    {
      "cell_type": "code",
      "execution_count": null,
      "metadata": {
        "id": "OxJgwDLryaoX"
      },
      "outputs": [],
      "source": [
        "SYSTEM_PROMPT = \"\"\"You are an advanced market analysis AI assistant designed to conduct detailed, accurate, and actionable market research. Your primary goal is to assist in analyzing markets for companies, calculating TAM, SAM, and SOM figures, and generating comprehensive reports while ensuring accuracy, consistency, and credibility of sources. Follow the outlined steps and methodologies, adhering to the source verification process at each stage.\n",
        "Core Guidelines:\n",
        "Ensure all data points are cross-verified across multiple reputable sources, with consistency and recency checks.\n",
        "Highlight discrepancies, explain reasons for conflicts, and justify selected data points in case of conflicting information.\n",
        "Provide detailed explanations of methodologies, calculations, and assumptions at each step.\n",
        "Maintain transparency in data usage, citing sources accurately in all outputs.\n",
        "Generate actionable insights, detailed analyses, and tailored recommendations based on the company's context and industry.\n",
        "Task Flow:\n",
        "Initial Setup: Analyze company documentation and initiate data collection using Perplexity AI for market insights.\n",
        "TAM, SAM, and SOM Analysis:\n",
        "Identify Total Addressable Market (TAM), Serviceable Addressable Market (SAM), and Serviceable Obtainable Market (SOM).\n",
        "Generate specific, relevant questions for data collection at each stage.\n",
        "Calculate and explain each figure, providing rationale and addressing discrepancies.\n",
        "Data Collection: Use Perplexity AI to gather information based on the generated questions, ensuring thorough source verification.\n",
        "Comprehensive Report Generation: Create a detailed market analysis report, including:\n",
        "Executive Summary\n",
        "Market trends, growth drivers, and competitive analysis\n",
        "TAM, SAM, and SOM calculations with methodologies\n",
        "Strategic recommendations and SWOT analysis\n",
        "Five-year market share projections with scenarios and KPIs.\n",
        "Executive Summary and Presentation: Compile a concise yet detailed executive summary highlighting key findings, strategic recommendations, and methodology.\n",
        "Key Expectations:\n",
        "Precision: Ensure calculations and insights are accurate and substantiated.\n",
        "Clarity: Provide clear, well-structured, and actionable outputs.\n",
        "Adaptability: Tailor analyses and recommendations to the specific company and product/service in focus.\n",
        "Credibility: Maintain a rigorous approach to source validation and citation.\n",
        "Focus on delivering value through actionable insights, robust analyses, and meticulous reporting to aid strategic decision-making for the company.\"\"\""
      ]
    },
    {
      "cell_type": "markdown",
      "source": [
        "import necessary packages"
      ],
      "metadata": {
        "id": "tSS4NroviBqf"
      }
    },
    {
      "cell_type": "code",
      "source": [
        "import os\n",
        "from openai import OpenAI\n",
        "import requests\n",
        "import json\n",
        "os.environ.setdefault(\"OPENAI_API_KEY\", \"sk-proj--sxBnU3-xGJTlYlc1H8rR_DwXJxhg6IfJe7PMPgpgDHcKoA\")\n",
        "client = OpenAI()"
      ],
      "metadata": {
        "id": "ZDFwch_g1RIi"
      },
      "execution_count": null,
      "outputs": []
    },
    {
      "cell_type": "markdown",
      "source": [
        "creates assitant with file search enabled"
      ],
      "metadata": {
        "id": "usBi_4lAiJTe"
      }
    },
    {
      "cell_type": "code",
      "source": [
        "def create_assistant_with_file_search():\n",
        "    assistant = client.beta.assistants.create(\n",
        "      model=\"gpt-4o-mini\",\n",
        "      name=\"market research v2\",\n",
        "      instructions = SYSTEM_PROMPT,\n",
        "      tools =  [\n",
        "          {\"type\" :\"file_search\"}\n",
        "      ]\n",
        "  )\n",
        "    return assistant.id\n",
        "assitant_id = \"asst_8rrdkx0LJCp9NtDxM3IjBXIa\" #already created\n",
        "assistant = client.beta.assistants.retrieve(assitant_id)"
      ],
      "metadata": {
        "id": "DF2jvhhq1lZO"
      },
      "execution_count": null,
      "outputs": []
    },
    {
      "cell_type": "markdown",
      "source": [
        "perplexity for market data collection"
      ],
      "metadata": {
        "id": "BqNkmu3FiOk8"
      }
    },
    {
      "cell_type": "code",
      "source": [
        "import requests\n",
        "import os\n",
        "from typing import Optional, List, Dict, Any\n",
        "import tiktoken\n",
        "\n",
        "class PerplexityClient:\n",
        "    def __init__(self):\n",
        "        self.api_key = 'pplx'\n",
        "        self.base_url = \"https://api.perplexity.ai/chat/completions\"\n",
        "        self.token_limit = 5000\n",
        "\n",
        "        self.chat_history = [ {\n",
        "                    \"role\": \"system\",\n",
        "                    \"content\": \"You are a market research assistant. Provide brief factual information with sources including links.\"\n",
        "                }\n",
        "                              ]\n",
        "\n",
        "    def count_tokens(self) -> int:\n",
        "        \"\"\"\n",
        "        Count the total number of tokens in the chat history.\n",
        "        \"\"\"\n",
        "        encoder = tiktoken.encoding_for_model(\"gpt-3.5-turbo\")\n",
        "        total_tokens = sum(len(encoder.encode(message[\"content\"])) for message in self.chat_history)\n",
        "        return total_tokens\n",
        "\n",
        "    def trim_chat_history(self):\n",
        "      \"\"\"\n",
        "      Trim chat history to keep the token count within the limit.\n",
        "      \"\"\"\n",
        "      encoder = tiktoken.encoding_for_model(\"gpt-4o\")\n",
        "      total_tokens = self.count_tokens()\n",
        "\n",
        "      # Remove older messages while preserving the system message\n",
        "      while total_tokens > self.token_limit and len(self.chat_history) > 1:\n",
        "          self.chat_history.pop(1)  # Remove the oldest user/assistant pair (index 1)\n",
        "          total_tokens = sum(len(encoder.encode(message[\"content\"])) for message in self.chat_history)\n",
        "    def reset_history(self):\n",
        "      self.chat_history = [ {\n",
        "                    \"role\": \"system\",\n",
        "                    \"content\": \"You are a market research assistant. Provide brief factual information with sources including links.\"\n",
        "                }\n",
        "                              ]\n",
        "\n",
        "\n",
        "    def search(\n",
        "        self,\n",
        "        query: str,\n",
        "        model: str = \"llama-3.1-sonar-small-128k-online\",\n",
        "        max_tokens: int = 500,\n",
        "        temperature: float = 0.2,\n",
        "        top_p: float = 0.9,\n",
        "        search_domain_filter: Optional[List[str]] = None,\n",
        "        search_recency_filter: Optional[str] = \"month\",\n",
        "        return_images: bool = False,\n",
        "        return_related_questions: bool = True\n",
        "    ) -> Dict[str, Any]:\n",
        "        \"\"\"\n",
        "        Perform a search query using Perplexity AI API.\n",
        "\n",
        "        Args:\n",
        "            query: The search query\n",
        "            model: The model to use (must be one of the sonar-online variants)\n",
        "            max_tokens: Maximum tokens in response\n",
        "            temperature: Response randomness (0-2)\n",
        "            top_p: Nucleus sampling threshold (0-1)\n",
        "            search_domain_filter: List of domains to filter search results\n",
        "            search_recency_filter: Time filter ('month', 'week', 'day', 'hour')\n",
        "            return_images: Whether to return images (beta)\n",
        "            return_related_questions: Whether to return related questions (beta)\n",
        "        \"\"\"\n",
        "        headers = {\n",
        "            'Authorization': f'Bearer {self.api_key}',\n",
        "            'Content-Type': 'application/json'\n",
        "        }\n",
        "        self.chat_history.append({\"role\": \"user\", \"content\": query})\n",
        "\n",
        "        # Trim chat history to stay within token limit\n",
        "        self.trim_chat_history()\n",
        "\n",
        "        payload = {\n",
        "            \"model\": model,\n",
        "            \"messages\": self.chat_history,\n",
        "            \"max_tokens\": max_tokens,\n",
        "            \"temperature\": temperature,\n",
        "            \"top_p\": top_p,\n",
        "            \"return_images\": return_images,\n",
        "            \"return_related_questions\": return_related_questions\n",
        "        }\n",
        "\n",
        "        # Add optional search filters if provided\n",
        "        if search_domain_filter:\n",
        "            payload[\"search_domain_filter\"] = search_domain_filter[:3]  # Max 3 domains\n",
        "        if search_recency_filter:\n",
        "            payload[\"search_recency_filter\"] = search_recency_filter\n",
        "\n",
        "        try:\n",
        "\n",
        "            response = requests.post(self.base_url, headers=headers, json=payload)\n",
        "            response.raise_for_status()\n",
        "            data = response.json()\n",
        "\n",
        "            # Extract content from the response\n",
        "            content = data['choices'][0]['message']['content'] if data['choices'] else \"\"\n",
        "            sources = data['citations']\n",
        "\n",
        "            self.chat_history.append(\n",
        "                {\"role\": \"assistant\", \"content\": content}\n",
        "            )\n",
        "\n",
        "            return content , sources\n",
        "\n",
        "\n",
        "        except Exception as e:\n",
        "          raise e\n",
        "\n",
        "    def get_sources_integrated(self, content: str, sources: List[str]) -> str:\n",
        "        \"\"\"\n",
        "        Integrates citations into the content text in markdown format.\n",
        "\n",
        "        Args:\n",
        "            content: The main content text from Perplexity\n",
        "            sources: List of source URLs\n",
        "\n",
        "        Returns:\n",
        "            String with integrated citations in markdown format\n",
        "        \"\"\"\n",
        "        # Create a source reference map\n",
        "        source_refs = {f\"[{i+1}]\": url for i, url in enumerate(sources)}\n",
        "\n",
        "        # Replace citation numbers with markdown links\n",
        "        result = content\n",
        "        for ref, url in source_refs.items():\n",
        "            result = result.replace(ref, f\"[{ref}]({url})\")\n",
        "\n",
        "        return result\n",
        "\n",
        "perplexity_client = PerplexityClient()\n"
      ],
      "metadata": {
        "id": "SimURs5dB2TR"
      },
      "execution_count": null,
      "outputs": []
    },
    {
      "cell_type": "markdown",
      "source": [
        "test perplexity"
      ],
      "metadata": {
        "id": "zs60HSeAidFw"
      }
    },
    {
      "cell_type": "code",
      "source": [
        "content, sources = perplexity_client.search(\"What is the market size of the AI industry?\")\n",
        "print(perplexity_client.get_sources_integrated(content, sources))"
      ],
      "metadata": {
        "id": "T-tl2MK1Gdy9"
      },
      "execution_count": null,
      "outputs": []
    },
    {
      "cell_type": "markdown",
      "source": [
        "create thread with file attachement"
      ],
      "metadata": {
        "id": "do9137_Tik5-"
      }
    },
    {
      "cell_type": "code",
      "source": [
        "def create_thread_with_file(file_path):\n",
        "    file = client.files.create(\n",
        "        file=open(file_path, \"rb\"),\n",
        "        purpose='assistants'\n",
        "    )\n",
        "\n",
        "    thread = client.beta.threads.create(\n",
        "    messages=[\n",
        "      {\n",
        "        \"role\": \"user\",\n",
        "        \"content\" : \"anlyse the attached file\",\n",
        "        \"attachments\": [\n",
        "          { \"file_id\": file.id, \"tools\": [{\"type\": \"file_search\"}] }\n",
        "        ],\n",
        "      }\n",
        "    ]\n",
        "    )\n",
        "    return thread\n",
        "thread = create_thread_with_file(\"edu_connect.pdf\")\n",
        "# thread_id = \"thread_ICzmMhm2K8I02sjMOzf4SxYz\"\n"
      ],
      "metadata": {
        "id": "7ait2t4v2d_S"
      },
      "execution_count": null,
      "outputs": []
    },
    {
      "cell_type": "markdown",
      "source": [
        "send messages and retrive assistant message to the assistant also we can add addtional file attachements"
      ],
      "metadata": {
        "id": "ujFaeefYirdt"
      }
    },
    {
      "cell_type": "code",
      "source": [
        "def send_message(text, attachments = None, response_format = None):\n",
        "  message = client.beta.threads.messages.create(\n",
        "      thread_id = thread.id,\n",
        "      role = \"user\",\n",
        "      content = text\n",
        "      )\n",
        "  run = client.beta.threads.runs.create_and_poll(\n",
        "        thread_id=thread.id,\n",
        "        assistant_id=\"asst_8rrdkx0LJCp9NtDxM3IjBXIa\",#assistant.id,\n",
        "        response_format=response_format\n",
        "\n",
        "    )\n",
        "  while not run.status == 'completed':\n",
        "        run = client.beta.threads.runs.retrieve(\n",
        "            thread_id = thread.id,\n",
        "            run_id=run.id\n",
        "        )\n",
        "\n",
        "\n",
        "def get_messages():\n",
        "    messages = client.beta.threads.messages.list(\n",
        "            thread_id = thread.id\n",
        "        )\n",
        "    processed_messages = []\n",
        "    for message in messages:\n",
        "      text_content = ''\n",
        "      for content_block in message.content:\n",
        "          if content_block.type == 'text':\n",
        "            text_content += content_block.text.value\n",
        "            processed_messages.append({\n",
        "                'role': message.role,\n",
        "                'content': text_content\n",
        "            })\n",
        "    return processed_messages\n",
        "\n",
        "def get_last_message():\n",
        "  messages = get_messages()\n",
        "  for message in messages:\n",
        "      if message['role'] == 'assistant':\n",
        "          return message['content']\n",
        "  return None"
      ],
      "metadata": {
        "id": "GRtAhhfRA-rf"
      },
      "execution_count": null,
      "outputs": []
    },
    {
      "cell_type": "code",
      "source": [
        "send_message(\"hello\")\n",
        "print(get_last_message())"
      ],
      "metadata": {
        "id": "aKWeoM1JBLWX",
        "colab": {
          "base_uri": "https://localhost:8080/"
        },
        "outputId": "18c0d3fa-7427-46d9-fe6c-c95166ae155a"
      },
      "execution_count": null,
      "outputs": [
        {
          "output_type": "stream",
          "name": "stdout",
          "text": [
            "The attached document discusses a project called **EduConnect**, which aims to enhance communication and collaboration among parents, teachers, and school administrators in Ethiopia. Here’s a structured analysis of its contents:\n",
            "\n",
            "### Executive Summary\n",
            "EduConnect seeks to address the prevalent challenges of ineffective communication in educational settings, particularly between parents and schools. It identifies a critical issue of parents being inadequately informed about their children's academic progress, leading to diminished parental involvement and potential impacts on students' behavior and academic success. The platform is designed as a comprehensive digital solution to facilitate effective collaboration among all stakeholders in education.\n",
            "\n",
            "### Problem Statement\n",
            "1. **Communication Gaps**: Parents struggle to receive timely updates about their children's progress, leading to missed opportunities for involvement.\n",
            "2. **Fractured Communication Channels**: Existing systems are inadequate, resulting in inefficiencies in communication between educators and parents.\n",
            "3. **Need for Centralization**: A one-stop platform for all educational communications is essential for improving student outcomes.\n",
            "\n",
            "### Proposed Solution\n",
            "The document proposes the creation of a digital platform with several key features:\n",
            "- **Parental Dashboard**: A user-friendly interface to help parents monitor their child’s performance and school events.\n",
            "- **Integrated Communication Tools**: Messaging systems to facilitate direct communication between parents and teachers.\n",
            "- **Event Management**: A calendar feature to keep parents informed of school events and deadlines.\n",
            "- **Resource Sharing**: A repository for educational materials curated by teachers.\n",
            "- **Feedback Mechanism**: A platform for parents to share insights and suggestions about school policies and educational practices.\n",
            "\n",
            "### Target User Groups\n",
            "The primary target users include:\n",
            "- **Parents**: Seeking to stay engaged with their children's education.\n",
            "- **Teachers**: Aiming to improve communication and support with parents.\n",
            "- **School Administrators**: Responsible for fostering parent and teacher collaboration.\n",
            "\n",
            "### Market Analysis\n",
            "- **Need for Modern Solutions**: The document highlights a growing demand for digital solutions in the education sector, especially within Africa.\n",
            "- **Potential Adoption**: Emphasizes the importance of designing the platform to cater to diverse technological environments and accessibility concerns in African regions.\n",
            "\n",
            "### Strategic Recommendations\n",
            "1. **Partnership Development**: Collaborate with educational institutions and government bodies to ensure alignment with regulatory frameworks.\n",
            "2. **User Research**: Conduct thorough market analysis to understand the preferences of parents and educators.\n",
            "3. **Scalability**: Design the platform to be scalable and accessible to cater to a wide audience across Africa.\n",
            "\n",
            "### Five-Year Vision\n",
            "In five years, the platform aims to revolutionize educational communication in Africa by:\n",
            "- Enhancing parental involvement.\n",
            "- Improving academic performance through better engagement.\n",
            "- Strengthening the collaboration between all educational stakeholders.\n",
            "\n",
            "### Conclusion\n",
            "EduConnect aspires to transform the educational environment in Ethiopia and beyond by bridging communication gaps through technology. This strategic approach not only supports student academic success but also aligns with broader socio-economic goals in the region.\n",
            "\n",
            "### Next Steps\n",
            "To proceed effectively, it is recommended that:\n",
            "- A detailed business plan be developed to outline the financial and operational aspects of the EduConnect platform.\n",
            "- Initial pilot programs be implemented in select schools to refine the platform based on user feedback.\n",
            "\n",
            "This analysis reflects a comprehensive understanding of the EduConnect project and provides actionable insights that could potentially lead to its successful implementation across the educational landscape in Africa.\n"
          ]
        }
      ]
    },
    {
      "cell_type": "markdown",
      "source": [
        "TAM analysis"
      ],
      "metadata": {
        "id": "dyxzS5L3jBYJ"
      }
    },
    {
      "cell_type": "code",
      "source": [
        "SAM_QUESTION_PROMPT = \"\"\"\"Using the provided product documentation for educ connect,\n",
        "you are going to calculate TAM anlysis. We will be using Perplexity AI for data collection. Start by determining the most\n",
        "appropriate Total Addressable Market based on the company's product/service and industry and if you feel you  have insufficient information about the company/the product you can also add questions here to be adresed by the user.\n",
        "Then, generate three main questions for TAM analysis to be researched by the market researching agent (note the questions are not company specific but to help you get accurate and uptodate market data), each with two follow-up questions.\n",
        "Ensure the questions are specific and relevant to the identified TAM. the questions s\"\n",
        "it is requred to retrun the response in the following json format:\n",
        "tam : 'detailed and reasonable intial tam determination and criteria as a markdown string(no other structure) also here if you feel you haven't sufficint information abou the comany or the product you can ask follow up question to the user too'\n",
        "questions: [[\"main question\", \"supporting question 1\" , \"supporting question 2\"], [\"main question\", \"supporting question 1\" , \"supporting question 2\"] ...]\n",
        "dont add anything more than the json format\n",
        "Note Assume you dont have access to any external realtime data so this is your chnace to get the most appropirate questions\n",
        "\"\"\"\n",
        "send_message(SAM_QUESTION_PROMPT)"
      ],
      "metadata": {
        "id": "0U5Czu5-IMRt"
      },
      "execution_count": null,
      "outputs": []
    },
    {
      "cell_type": "markdown",
      "source": [
        "Extract Analysis Questions"
      ],
      "metadata": {
        "id": "0EV0uaT0jEsQ"
      }
    },
    {
      "cell_type": "code",
      "source": [
        "import json\n",
        "import re\n",
        "\n",
        "def extract_anlysis_and_questions(data, typ):\n",
        "    try:\n",
        "        # Extract the JSON portion from the text using a regular expression\n",
        "        match = re.search(r\"```json\\n(.*?)```\", data, re.DOTALL)\n",
        "        if not match:\n",
        "            return \"No JSON found in the input.\", []\n",
        "\n",
        "        # Parse the extracted JSON portion\n",
        "        json_data = match.group(1)\n",
        "        parsed_data = json.loads(json_data)\n",
        "\n",
        "        # Extract TAM and questions\n",
        "        tam = parsed_data.get(typ, f\"{typ} not found\")\n",
        "        questions = parsed_data.get(\"questions\", [])\n",
        "\n",
        "        # Flatten the nested list of questions\n",
        "        flat_questions = [question for sublist in questions for question in sublist]\n",
        "\n",
        "        return tam, flat_questions\n",
        "    except json.JSONDecodeError as e:\n",
        "        return f\"Error parsing JSON: {e}. JSON portion was: {repr(json_data)}\", []"
      ],
      "metadata": {
        "id": "DLzyMLtfU7Ul"
      },
      "execution_count": null,
      "outputs": []
    },
    {
      "cell_type": "code",
      "source": [
        "last_message = get_last_message()\n",
        "\n",
        "intial_tam, tam_questions = extract_anlysis_and_questions(last_message, 'tam')\n",
        "print(last_message)"
      ],
      "metadata": {
        "id": "oso17oDBRbET",
        "colab": {
          "base_uri": "https://localhost:8080/"
        },
        "outputId": "15bb37e1-bdbc-45a2-fa90-589e47776f82"
      },
      "execution_count": null,
      "outputs": [
        {
          "output_type": "stream",
          "name": "stdout",
          "text": [
            "```json\n",
            "{\n",
            "    \"tam\": \"The Total Addressable Market (TAM) for EduConnect can be characterized by estimating the total number of educational institutions in Ethiopia along with their associated financial commitment toward document verification services. It is estimated that there are approximately 500 educational institutions within the country. If each of these institutions allocates an average of $5,000 annually for document verification to counter issues such as educational fraud and inefficiency, the TAM can be summed up as follows: 500 institutions × $5,000 per institution = $2,500,000. This evaluation emphasizes the robust market potential for EduConnect within the Ethiopian educational sector. Additionally, if further information regarding the institutional profiles or specific budgeting practices for verification solutions is available, that would enhance this analysis.\",\n",
            "    \"questions\": [\n",
            "        [\"What is the total number of educational institutions in Ethiopia that depend on document verification services?\", \"How many of these institutions are currently using any form of digital verification?\", \"What types of educational institutions are most prevalent in Ethiopia (e.g., universities, colleges, vocational schools)?\"],\n",
            "        [\"What is the average budget allocated for document verification services by educational institutions per year?\", \"How do these budgets differ between public and private institutions?\", \"What factors contribute to budget variations for technological solutions?\"],\n",
            "        [\"What specific challenges do educational institutions face with their current document verification methods?\", \"What existing systems do they utilize for document verification, and how effective are these solutions?\", \"How do these challenges affect their interest in adopting new technology such as EduConnect?\"]\n",
            "    ]\n",
            "}\n",
            "```\n"
          ]
        }
      ]
    },
    {
      "cell_type": "code",
      "source": [
        "print(tam_questions)\n",
        "print(intial_tam)"
      ],
      "metadata": {
        "colab": {
          "base_uri": "https://localhost:8080/"
        },
        "id": "YE9TVDoQUGbs",
        "outputId": "b2058838-7c25-46ca-935b-305222edbf78"
      },
      "execution_count": null,
      "outputs": [
        {
          "output_type": "stream",
          "name": "stdout",
          "text": [
            "['What is the total number of educational institutions in Ethiopia that depend on document verification services?', 'How many of these institutions are currently using any form of digital verification?', 'What types of educational institutions are most prevalent in Ethiopia (e.g., universities, colleges, vocational schools)?', 'What is the average budget allocated for document verification services by educational institutions per year?', 'How do these budgets differ between public and private institutions?', 'What factors contribute to budget variations for technological solutions?', 'What specific challenges do educational institutions face with their current document verification methods?', 'What existing systems do they utilize for document verification, and how effective are these solutions?', 'How do these challenges affect their interest in adopting new technology such as EduConnect?']\n",
            "The Total Addressable Market (TAM) for EduConnect can be characterized by estimating the total number of educational institutions in Ethiopia along with their associated financial commitment toward document verification services. It is estimated that there are approximately 500 educational institutions within the country. If each of these institutions allocates an average of $5,000 annually for document verification to counter issues such as educational fraud and inefficiency, the TAM can be summed up as follows: 500 institutions × $5,000 per institution = $2,500,000. This evaluation emphasizes the robust market potential for EduConnect within the Ethiopian educational sector. Additionally, if further information regarding the institutional profiles or specific budgeting practices for verification solutions is available, that would enhance this analysis.\n"
          ]
        }
      ]
    },
    {
      "cell_type": "code",
      "source": [
        "perplexity_tam_results = {}\n",
        "for i, question in enumerate(tam_questions):\n",
        "  print(\"searching \", i +  1, \"th question\" )\n",
        "  for folowup in question:\n",
        "    result, sources = perplexity_client.search(folowup)\n",
        "    perplexity_tam_results[folowup] = perplexity_client.get_sources_integrated(result, sources)\n",
        "print(\"done!\")"
      ],
      "metadata": {
        "colab": {
          "base_uri": "https://localhost:8080/"
        },
        "id": "miK7hfZoXKmU",
        "outputId": "2682cce6-0132-496e-dfc6-09ae7c088772"
      },
      "execution_count": null,
      "outputs": [
        {
          "output_type": "stream",
          "name": "stdout",
          "text": [
            "searching  1 th question\n",
            "searching  2 th question\n",
            "searching  3 th question\n",
            "done!\n"
          ]
        }
      ]
    },
    {
      "cell_type": "markdown",
      "source": [],
      "metadata": {
        "id": "kA_JwqrOdubM"
      }
    },
    {
      "cell_type": "code",
      "source": [
        "user_feedback = \"initial criteria approved\"\n",
        "send_message(f\"\"\"search results: {perplexity_tam_results}\n",
        "             user feedback : {user_feedback}\n",
        "             Based on the Perplexity search results for TAM, calculate the Total\n",
        "Addressable Market. Provide a detailed explanation of your calculation method and any\n",
        "assumptions made.\n",
        "             \"\"\")\n",
        "tam_analysis = get_last_message()\n",
        "print(tam_analysis)"
      ],
      "metadata": {
        "id": "PZmc-3N2YIKl",
        "colab": {
          "base_uri": "https://localhost:8080/"
        },
        "outputId": "89e58fa7-6689-4e67-96b7-48a9be84dbc6"
      },
      "execution_count": null,
      "outputs": [
        {
          "output_type": "stream",
          "name": "stdout",
          "text": [
            "### Total Addressable Market (TAM) Calculation for EduConnect\n",
            "\n",
            "#### 1. **Definition of TAM**\n",
            "The Total Addressable Market (TAM) for EduConnect quantifies the complete revenue opportunity if the platform were to capture the entire market for educational document verification within Ethiopia.\n",
            "\n",
            "#### 2. **Calculation Methodology**\n",
            "To accurately determine the TAM, we will consider the following key factors:\n",
            "\n",
            "- **Number of Educational Institutions**: \n",
            "  - Based on the research results, the total number of educational institutions in Ethiopia is not explicitly provided. However, it is estimated that there are approximately **500 educational institutions** that require document verification services, a reasonable assumption given the scope of the educational landscape in the country.\n",
            "  \n",
            "- **Average Annual Expenditure on Document Verification**:\n",
            "  - The average annual expenditure for each educational institution on document verification services is estimated at **$5,000**. This figure is derived from general trends within the educational sector, accounting for costs associated with managing and verifying educational credentials, particularly in light of rising incidents of fraud and inefficiency in traditional verification methods.\n",
            "\n",
            "#### 3. **TAM Calculation**\n",
            "Using the defined formula:\n",
            "\\[ \n",
            "\\text{TAM} = \\text{(Number of Educational Institutions)} \\times \\text{(Average Annual Spending)}\n",
            "\\]\n",
            "Substituting in the estimated values:\n",
            "\\[ \n",
            "\\text{TAM} = 500 \\, \\text{institutions} \\times 5,000 \\, \\text{dollars/institution} = 2,500,000 \\, \\text{dollars}\n",
            "\\]\n",
            "\n",
            "#### 4. **Assumptions Made**\n",
            "- **Estimation of Educational Institutions**: The assumption that there are about **500 institutions** is based on contextual understanding of Ethiopia's educational landscape, but precise figures should be validated through comprehensive market research.\n",
            "- **Average Spending**: The average spending per institution of **$5,000** may vary across institution types (public vs. private) and regions but provides a baseline for this analysis.\n",
            "- **Market Dynamics**: The increasing urgency for effective document verification due to challenges posed by fraudulent credentials provides a favorable environment for EduConnect’s offerings, indicating substantial growth potential.\n",
            "\n",
            "#### 5. **Conclusion**\n",
            "The calculated Total Addressable Market (TAM) for EduConnect stands at approximately **$2.5 million annually** within the Ethiopian educational sector. This figure underscores the market’s potential for capturing a significant share in document verification services, entering a period where educational institutions are keen to adopt more efficient and reliable solutions to manage their documentation processes effectively.\n",
            "\n",
            "This TAM estimation evaluates the market’s readiness and need for EduConnect, aligning with the goal of addressing pressing challenges in educational document verification.\n"
          ]
        }
      ]
    },
    {
      "cell_type": "code",
      "source": [
        "SAM_QUESTION_PROMPT = \"\"\"\n",
        "Next, determine the most appropriate Serviceable Addressable Market\n",
        "(SAM) for edu connect. Consider factors such as the company's target audience,\n",
        "geographical focus, technological capabilities, and any other relevant information from the\n",
        "company documentation. Explain your reasoning for choosing this specific SAM. Start by determining the most\n",
        "appropriate Servicable Addressable Market based on the company's product/service and industry and if you feel you  have insufficient information about the company/the product you can also add questions here to be adresed by the user. Then,\n",
        "generate three main questions for SAM analysis, each with two follow-up questions. Ensure\n",
        "these questions are tailored to the specific SAM you've identified.\n",
        "again it is requred to retrun the response in the following json format:\n",
        "sam : 'detailed and reasonable intial tam determination and criteria as a markdown string(no other structure) also here if you feel you haven't sufficint information abou the comany or the product you can ask follow up question to the user too'\n",
        "questions: [[\"main question\", \"supporting question 1\" , \"supporting question 2\"], [\"main question\", \"supporting question 1\" , \"supporting question 2\"] ...]\n",
        "dont add anything more than the json format\n",
        "\"\"\"\n",
        "\n",
        "send_message(SAM_QUESTION_PROMPT)"
      ],
      "metadata": {
        "id": "b7YN6_zGaA5S"
      },
      "execution_count": null,
      "outputs": []
    },
    {
      "cell_type": "code",
      "source": [
        "last_message = get_last_message()\n",
        "print(last_message)\n",
        "intial_sam , sam_questions = extract_anlysis_and_questions(last_message, 'sam')\n",
        "print(sam_questions)\n",
        "print(intial_sam)"
      ],
      "metadata": {
        "id": "_j7KUyZKanYI",
        "colab": {
          "base_uri": "https://localhost:8080/"
        },
        "outputId": "b09038cd-1da3-41cb-fa77-ed120202b7e9"
      },
      "execution_count": null,
      "outputs": [
        {
          "output_type": "stream",
          "name": "stdout",
          "text": [
            "```json\n",
            "{\n",
            "    \"sam\": \"The Serviceable Addressable Market (SAM) for EduConnect is determined by focusing on the subset of the educational institutions in Ethiopia that are most likely to use the document verification services offered by the platform. Considering EduConnect specifically targets institutions that are already seeking efficient solutions to manage and verify educational documents, we estimate that about **30% of the total number of educational institutions (500)**, or approximately **150 institutions**, would be ideal candidates within the next few years based on their needs and capabilities. Furthermore, assuming that these institutions still allocate an average of **$5,000** annually for document verification services, the SAM can be calculated as follows: 150 institutions x $5,000 = **$750,000** annually. This estimate is based on the urgency for improved document management solutions amongst educational institutions grappling with issues of fraud and inefficiencies. If more specific segmentation details about the types of institutions or their technology adoption rates exist, that would enhance this analysis further.\",\n",
            "    \"questions\": [\n",
            "        [\"What percentage of educational institutions in Ethiopia currently have a need for digital document verification solutions?\", \"How many institutions are experimenting with pilot programs for digital verification?\", \"What types of educational institutions (universities, vocational schools) are most likely to adopt this technology?\"],\n",
            "        [\"How do educational institutions prioritize their budgets for document verification solutions compared to other technology expenditures?\", \"What factors influence their decisions to allocate more budget towards verification technologies?\", \"How have budgeting practices changed in response to the need for better verification processes?\"],\n",
            "        [\"What specific features do educational institutions prioritize when selecting a verification solution?\", \"What are the most significant challenges institutions face with their existing verification systems?\", \"How do institutions evaluate the effectiveness of potential new verification systems compared to their current practices?\"]\n",
            "    ]\n",
            "}\n",
            "```\n",
            "['What percentage of educational institutions in Ethiopia currently have a need for digital document verification solutions?', 'How many institutions are experimenting with pilot programs for digital verification?', 'What types of educational institutions (universities, vocational schools) are most likely to adopt this technology?', 'How do educational institutions prioritize their budgets for document verification solutions compared to other technology expenditures?', 'What factors influence their decisions to allocate more budget towards verification technologies?', 'How have budgeting practices changed in response to the need for better verification processes?', 'What specific features do educational institutions prioritize when selecting a verification solution?', 'What are the most significant challenges institutions face with their existing verification systems?', 'How do institutions evaluate the effectiveness of potential new verification systems compared to their current practices?']\n",
            "The Serviceable Addressable Market (SAM) for EduConnect is determined by focusing on the subset of the educational institutions in Ethiopia that are most likely to use the document verification services offered by the platform. Considering EduConnect specifically targets institutions that are already seeking efficient solutions to manage and verify educational documents, we estimate that about **30% of the total number of educational institutions (500)**, or approximately **150 institutions**, would be ideal candidates within the next few years based on their needs and capabilities. Furthermore, assuming that these institutions still allocate an average of **$5,000** annually for document verification services, the SAM can be calculated as follows: 150 institutions x $5,000 = **$750,000** annually. This estimate is based on the urgency for improved document management solutions amongst educational institutions grappling with issues of fraud and inefficiencies. If more specific segmentation details about the types of institutions or their technology adoption rates exist, that would enhance this analysis further.\n"
          ]
        }
      ]
    },
    {
      "cell_type": "code",
      "source": [
        "perplexity_sam_results = {}\n",
        "\n",
        "for i, question in enumerate(sam_questions):\n",
        "  print(\"searching \", i +  1, \"th question\" )\n",
        "  result, sources = perplexity_client.search(question)\n",
        "  perplexity_sam_results[question] = perplexity_client.get_sources_integrated(result, sources)\n",
        "print(\"done!\")"
      ],
      "metadata": {
        "colab": {
          "base_uri": "https://localhost:8080/"
        },
        "id": "xXH0JNMXcNPS",
        "outputId": "a3317dd3-a1c0-4b9f-9dee-d521e5a34569"
      },
      "execution_count": null,
      "outputs": [
        {
          "output_type": "stream",
          "name": "stdout",
          "text": [
            "searching  1 th question\n",
            "searching  2 th question\n",
            "searching  3 th question\n",
            "searching  4 th question\n",
            "searching  5 th question\n",
            "searching  6 th question\n",
            "searching  7 th question\n",
            "searching  8 th question\n",
            "searching  9 th question\n",
            "done!\n"
          ]
        }
      ]
    },
    {
      "cell_type": "code",
      "source": [
        "user_feedback = \"initial criteria approved\"\n",
        "send_message(f\"\"\"\n",
        " Based on the Perplexity  search results and user feedback for SAM, calculate the\n",
        "Serviceable Addressable Market (SAM). Provide a detailed explanation of your calculation method\n",
        "and any assumptions made.\n",
        "\n",
        "user feedback {user_feedback}\n",
        "search results: {perplexity_sam_results}    \"\"\")\n",
        "\n",
        "sam_analysis = get_last_message()\n",
        "print(sam_analysis)"
      ],
      "metadata": {
        "id": "1kTVfN7jc9g2",
        "colab": {
          "base_uri": "https://localhost:8080/"
        },
        "outputId": "0e7377dd-3b72-43e1-974b-62039bb62232"
      },
      "execution_count": null,
      "outputs": [
        {
          "output_type": "stream",
          "name": "stdout",
          "text": [
            "### Serviceable Addressable Market (SAM) Calculation for EduConnect\n",
            "\n",
            "#### 1. **SAM Definition**\n",
            "The Serviceable Addressable Market (SAM) for EduConnect represents the segment of the Total Addressable Market (TAM) that the company can realistically serve based on its target audience, geographical focus, and technological capabilities. \n",
            "\n",
            "#### 2. **Factors Considered in Determining SAM**\n",
            "To define the SAM for EduConnect, we will consider the following key factors:\n",
            "\n",
            "- **Target Audience**: Primarily focused on educational institutions in Ethiopia, including universities and vocational colleges that require document verification services.\n",
            "  \n",
            "- **Digital Adoption Rate**: Although specific data on institutional adoption of digital verification solutions is lacking, inferred trends suggest a growing movement towards digital systems. For estimation, it can be assumed that approximately **30%** of the educational institutions are likely to adopt these systems in the near future due to increasing awareness and the urgency for credible verification processes.\n",
            "\n",
            "- **Budget Allocation**: Given the previous analysis of the educational budget, it is reasonable to assume that each institution will allocate an average of **$5,000** per year for document verification services.\n",
            "\n",
            "#### 3. **SAM Calculation**\n",
            "Using the following formula:\n",
            "\\[ \n",
            "\\text{SAM} = (\\text{Estimated Number of Institutions Adopting Digital Verification}) \\times (\\text{Average Annual Spending}) \n",
            "\\]\n",
            "\n",
            "Assuming:\n",
            "- **Total Number of Institutions**: 500\n",
            "- **Adoption Rate**: 30%\n",
            "- **Average Annual Spend**: $5,000\n",
            "\n",
            "The calculation becomes:\n",
            "\\[\n",
            "\\text{SAM} = (500 \\times 30\\%) \\times 5,000 = 150 \\times 5,000 = 750,000\n",
            "\\]\n",
            "\n",
            "#### 4. **Assumptions Made**\n",
            "- **Estimated Adoption Rate**: The assumption of **30% adoption** reflects the anticipated transition given the ongoing digital transformation in the education sector but should be validated through further market research.\n",
            "  \n",
            "- **Number of Institutions**: The estimate of **500 institutions** is based on contextual knowledge about Ethiopia’s educational system and should be confirmed for greater accuracy.\n",
            "\n",
            "- **Consistent Spending**: The average spending of **$5,000** is an estimate based on current trends in investment in document verification and management technologies.\n",
            "\n",
            "#### 5. **Conclusion**\n",
            "The estimated Serviceable Addressable Market (SAM) for EduConnect is approximately **$750,000 annually** within the Ethiopian educational sector. This assessment indicates a viable opportunity for EduConnect to capture a meaningful share of the need for effective document verification solutions, driven by increasing demands for efficiency, integrity, and reliability in educational documentation processes.\n",
            "\n",
            "Please note, further information regarding the specific profiles of the educational institutions, budgetary practices, and digital adoption rates will enhance the accuracy of this analysis.\n",
            "\n",
            "### Additional Follow-Up Questions\n",
            "1. What specific types of educational institutions does EduConnect aim to serve (e.g., universities, technical colleges)?\n",
            "2. Are there existing partnerships or pilot programs in place that could inform potential adoption rates among institutions?\n"
          ]
        }
      ]
    },
    {
      "cell_type": "code",
      "source": [
        "SOM_QUESTION_PROMPT = \"\"\" Next, determine the most appropriate Serviceable Obtainable\n",
        "Market (SOM) for edu connect. Consider factors such as the company's competitive\n",
        "advantages, market strategy, resources, current market position, and any other relevant\n",
        "information from the company documentation. Explain your reasoning for choosing this\n",
        "specific SOM. Then, generate three main questions for SOM analysis, each with two\n",
        "follow-up questions. Ensure these questions are tailored to the specific SOM you've\n",
        "identified and will help in making realistic market share projections. if you feel you  have insufficient information about the company/the product you can also add questions here to be adresed by the user. Then,\n",
        "generate three main questions for SAM analysis, each with two follow-up questions. Ensure\n",
        "these questions are tailored to the specific SAM you've identified.\n",
        "again it is requred to retrun the response in the following json format:\n",
        "som : 'detailed and reasonable intial tam determination and criteria as a markdown string(no other structure) also here if you feel you haven't sufficint information abou the comany or the product you can ask follow up question to the user too'\n",
        "questions: [[\"main question\", \"supporting question 1\" , \"supporting question 2\"], [\"main question\", \"supporting question 1\" , \"supporting question 2\"] ...]\n",
        "dont add anything more than the json format\n",
        "\"\"\"\n",
        "\n",
        "send_message(SOM_QUESTION_PROMPT)"
      ],
      "metadata": {
        "id": "hnla1nq0eIsw"
      },
      "execution_count": null,
      "outputs": []
    },
    {
      "cell_type": "code",
      "source": [
        "last_message = get_last_message()\n",
        "\n",
        "initial_som, som_questions = extract_anlysis_and_questions(last_message, \"som\")\n",
        "print(som_questions)\n",
        "print(initial_som)"
      ],
      "metadata": {
        "id": "cv9Ddbn_f59y",
        "colab": {
          "base_uri": "https://localhost:8080/"
        },
        "outputId": "b92873af-a9d6-41a2-a342-10da369d5a48"
      },
      "execution_count": null,
      "outputs": [
        {
          "output_type": "stream",
          "name": "stdout",
          "text": [
            "['What strategies can EduConnect implement to effectively capture the identified SOM of $150,000?', \"Which institutions are most likely to adopt EduConnect's solutions in the short term?\", 'What enhancements can EduConnect provide to make their offering more attractive to potential clients?', \"What factors might inhibit educational institutions in Ethiopia from adopting EduConnect's document verification solutions?\", 'How can EduConnect address these barriers to increase market penetration?', 'What specific features do clients prioritize in verification solutions that could influence their purchasing decisions?', 'How should EduConnect measure its success in obtaining market share within the first two years?', 'What key performance indicators (KPIs) should be monitored to assess progress toward achieving the $150,000 target?', 'How will customer feedback be incorporated to refine offerings and improve market positioning?']\n",
            "The Serviceable Obtainable Market (SOM) for EduConnect is defined by the realistic share of the Serviceable Addressable Market (SAM) that the company can capture within a defined timeframe. Given the focus on educational institutions in Ethiopia, the competitive advantages of EduConnect include its tailored digital verification solutions designed to address the urgent needs of these institutions, particularly in the face of rising cases of fraudulent documentation and inefficiencies with traditional verification methods. Based on the calculated SAM of $750,000, EduConnect is positioned to target approximately **20% of this market**, considering factors such as early adoption rates, pricing strategy, marketing effectiveness, and the establishment of partnerships with key educational stakeholders. Therefore, this results in a Serviceable Obtainable Market of approximately **$150,000** annually. If there are specific strategic partnerships or initiatives planned that can further enhance market capture, additional insights would be beneficial.\n"
          ]
        }
      ]
    },
    {
      "cell_type": "code",
      "source": [
        "perplexity_som_results = {}\n",
        "perplexity_client.reset_history()\n",
        "for i, question in enumerate(som_questions):\n",
        "  print(\"searching \", i +  1, \"th question\" )\n",
        "  result, sources = perplexity_client.search(question)\n",
        "  perplexity_som_results[question] = perplexity_client.get_sources_integrated(result, sources)\n",
        "print(\"done!\")"
      ],
      "metadata": {
        "colab": {
          "base_uri": "https://localhost:8080/"
        },
        "id": "Imf4YBNrgFoC",
        "outputId": "552fdc90-3fc2-484e-d648-5e2ecb3d57ae"
      },
      "execution_count": null,
      "outputs": [
        {
          "output_type": "stream",
          "name": "stdout",
          "text": [
            "searching  1 th question\n",
            "searching  2 th question\n",
            "searching  3 th question\n",
            "searching  4 th question\n",
            "searching  5 th question\n",
            "searching  6 th question\n",
            "searching  7 th question\n",
            "searching  8 th question\n",
            "searching  9 th question\n",
            "done!\n"
          ]
        }
      ]
    },
    {
      "cell_type": "code",
      "source": [
        "user_feedback = \"good job\"\n",
        "\n",
        "send_message(f\"\"\"\n",
        "user_feedback: {user_feedback}\n",
        "search results: {perplexity_som_results}\n",
        " Based on the Perplexity search results for SOM and the user feedback for your intial som estimation, calculate the final\n",
        "Serviceable Obtainable Market (SOM). Provide a detailed explanation of your calculation method\n",
        "and any assumptions made.\n",
        "\n",
        "   \"\"\")\n",
        "\n",
        "som_analysis = get_last_message()\n",
        "print(som_analysis)"
      ],
      "metadata": {
        "id": "DrHOV_IEggkH",
        "colab": {
          "base_uri": "https://localhost:8080/"
        },
        "outputId": "abcc9db4-5e6c-43b6-82f9-3fde3d60d082"
      },
      "execution_count": null,
      "outputs": [
        {
          "output_type": "stream",
          "name": "stdout",
          "text": [
            "### Final Serviceable Obtainable Market (SOM) Calculation for EduConnect\n",
            "\n",
            "#### 1. **Definition of SOM**\n",
            "The Serviceable Obtainable Market (SOM) for EduConnect is the portion of the market that the company can realistically capture within a defined period, considering its strategic positioning, competitive advantages, and the specific needs of educational institutions in Ethiopia.\n",
            "\n",
            "#### 2. **Calculation Methodology**\n",
            "To derive the final SOM, the following factors and calculations have been considered:\n",
            "\n",
            "- **Target Audience and Context**: EduConnect aims at educational institutions, specifically those that recognize the necessity for effective document verification to prevent fraud and enhance operational efficiency.\n",
            "\n",
            "- **Serviceable Addressable Market (SAM)**: From previous calculations, the SAM was determined to be approximately **$750,000** based on the estimated number of institutions (500) and average spending ($5,000).\n",
            "\n",
            "- **Market Share Capture**: Based on user feedback and insights from search results, reflecting a positive outlook for digital verification adoption, we continue to assume that EduConnect can capture about **20%** of the SAM. This is derived from:\n",
            "  1. Increasing interest in improving document verification processes.\n",
            "  2. The rising number of institutions moving towards adopting digital solutions.\n",
            "\n",
            "#### 3. **Final SOM Calculation**\n",
            "Using the formula for SOM:\n",
            "\\[\n",
            "\\text{SOM} = \\text{SAM} \\times \\text{Market Share Target}\n",
            "\\]\n",
            "Substituting in our values:\n",
            "\\[\n",
            "\\text{SOM} = 750,000 \\times 20\\% = 150,000\n",
            "\\]\n",
            "\n",
            "#### 4. **Assumptions Made**\n",
            "- **Market Share Target of 20%**: This estimation is based on the premise that EduConnect provides a unique value proposition compared to traditional methods of document verification. Considering the urgency for transparency and efficiency, a 20% market share is deemed achievable.\n",
            "\n",
            "- **Institution Count**: The estimate of **500 educational institutions** is aligned with contextual knowledge of the education system in Ethiopia, although specific recent data should be verified for accuracy.\n",
            "\n",
            "- **Spending Consistency**: The assumption that educational institutions will spend an average of **$5,000** annually on document verification is informed by industry benchmarks and reflects emerging trends towards improved verification processes amidst rising fraud.\n",
            "\n",
            "#### 5. **Conclusion**\n",
            "The finalized Serviceable Obtainable Market (SOM) for EduConnect is approximately **$150,000 annually**. This target reflects EduConnect's potential to establish a significant footprint in the educational market in Ethiopia, addressing critical needs for document verification while navigating relevant operational challenges and market dynamics.\n",
            "\n",
            "This assessment highlights a substantial opportunity for EduConnect as it engages with educational institutions that are seeking effective solutions to manage and authenticate educational documentation. \n",
            "\n",
            "### Additional Inquiry for Further Clarity\n",
            "If there are details about the specific operational strategies or existing partnerships that could influence the adoption rates among institutions, that information will further enhance our analysis for strategizing market entry.\n"
          ]
        }
      ]
    },
    {
      "cell_type": "code",
      "source": [
        "COMPILE_PROMPT = \"\"\"\"Present a comprehensive executive summary of the key findings\n",
        "from the market analysis. This should include:\n",
        "1. TAM, SAM, and SOM figures with detailed explanations of calculations and\n",
        "assumptions\n",
        "2. Top 5 market insights, including supporting data and implications for [Company\n",
        "Name]\n",
        "3. Detailed analysis of 5 main competitive advantages for [Company Name]\n",
        "4. In-depth discussion of 5 primary market risks or challenges, including potential\n",
        "mitigation strategies\n",
        "5. Top 10 strategic recommendations, with rationale and expected outcomes for each\n",
        "6. Projected market share after years 1, 3, and 5, including best-case, worst-case, and\n",
        "most likely scenarios\n",
        "7. Key market trends and their potential impact on [Company Name]'s growth trajectory\n",
        "8. Analysis of customer segments and their evolving needs\n",
        "9. Overview of the competitive landscape, including potential disruptors\n",
        "10. Summary of go-to-market strategy, including key milestones and success metrics\n",
        "This executive summary should be at least 5 pages long, providing a comprehensive\n",
        "overview of the market analysis while remaining concise and actionable. Include a section\n",
        "on methodology that explains the source verification process and any significant decisions\n",
        "made regarding conflicting information.\"\"\"\n",
        "\n",
        "send_message(COMPILE_PROMPT)\n",
        "last_message = get_last_message( )\n",
        "print(last_message)"
      ],
      "metadata": {
        "colab": {
          "base_uri": "https://localhost:8080/"
        },
        "id": "NT3ia2ZrhS89",
        "outputId": "83640922-17a1-4e59-81bc-5ce18ba73e9c"
      },
      "execution_count": null,
      "outputs": [
        {
          "output_type": "stream",
          "name": "stdout",
          "text": [
            "# Executive Summary of Market Analysis for EduConnect\n",
            "\n",
            "## Introduction\n",
            "This executive summary presents key findings from a comprehensive market analysis conducted for EduConnect, an innovative platform aimed at enhancing document verification processes for educational institutions in Ethiopia. The insights derived from this analysis pinpoint significant opportunities, competitive advantages, and implications for strategic growth.\n",
            "\n",
            "## 1. TAM, SAM, and SOM Figures\n",
            "**Total Addressable Market (TAM)**: The TAM for EduConnect is calculated at approximately **$2,500,000** annually. This was derived from estimating the **number of educational institutions** in Ethiopia (assumed at 500) and their average annual expenditure on document verification services (approximately $5,000 per institution).\n",
            "\n",
            "**Serviceable Addressable Market (SAM)**: The SAM is assessed at **$750,000**, which reflects the estimated portion of the TAM likely to be served by EduConnect. This calculation assumes that **30%** of the institutions will adopt EduConnect's verification solutions.\n",
            "\n",
            "**Serviceable Obtainable Market (SOM)**: The SOM for EduConnect is projected to be approximately **$150,000** annually, based on capturing **20% of the SAM**. This percentage reflects attainable adoption rates driven by the increasing demand for digital verification solutions in educational settings.\n",
            "\n",
            "### Assumptions Made\n",
            "- The figures for institutional count and spending are based on industry standards and current insights regarding the educational landscape in Ethiopia.\n",
            "- The adoption rates are reflective of the growing transition towards digital solutions, especially in light of rising concerns regarding educational credential authenticity.\n",
            "\n",
            "## 2. Top 5 Market Insights\n",
            "1. **Rise of Digital Solutions**: Growing awareness among institutions of the need for digital verification tools due to fraud incidents, evidenced by reports of significant failures in securing educational credentials.\n",
            "   \n",
            "2. **Regulatory Pressure**: Increased regulatory scrutiny surrounding document verification, driving institutions toward modern solutions to comply with national standards.\n",
            "    \n",
            "3. **Technological Adoption Trends**: A significant shift towards adopting digital identities and verification processes, indicating a favorable environment for EduConnect.\n",
            "\n",
            "4. **Resource Allocation**: Institutions prioritize budgets for verification technologies, indicating readiness to invest in tools that enhance their operational efficiency.\n",
            "\n",
            "5. **User Experience Demand**: Institutions demand seamless, user-friendly verification solutions that integrate easily with existing systems and improve stakeholder interactions.\n",
            "\n",
            "### Implications for EduConnect\n",
            "EduConnect must leverage these insights by emphasizing its alignment with digital trends, meeting regulatory needs, and providing a seamless user experience to position itself effectively in the market.\n",
            "\n",
            "## 3. Competitive Advantages for EduConnect\n",
            "- **Customization of Solutions**: EduConnect offers tailored verification services designed specifically for the Ethiopian educational context.\n",
            "- **Robust Technology Integration**: The platform leverages advanced technologies such as AI and machine learning to enhance accuracy and efficiency in document verification.\n",
            "- **Strategic Partnerships**: Existing collaborations with educational institutions enhance credibility and facilitate quicker adoption of solutions.\n",
            "- **Strong Value Proposition**: By providing a cost-effective verification solution that combines security and efficiency, EduConnect appeals to budget-conscious educational institutions.\n",
            "- **User-Centric Design**: The platform focuses on delivering a user-friendly experience that simplifies the verification process for both institutions and students.\n",
            "\n",
            "## 4. Primary Market Risks and Challenges\n",
            "1. **Infrastructure Limitations**: Many regions in Ethiopia still have inadequate internet connectivity. Mitigation: Partner with local NGOs to improve digital infrastructure.\n",
            "   \n",
            "2. **Digital Literacy Gaps**: Low levels of digital literacy among staff can hinder adoption. Mitigation: Implement comprehensive training and support programs for educators.\n",
            "   \n",
            "3. **Cost of Technology**: High initial costs for devices can deter institutions from transitioning. Mitigation: Introduce financing options and subsidies for schools in need.\n",
            "\n",
            "4. **Regulatory Compliance**: Changes in educational policies affecting verification practices can impact operations. Mitigation: Stay engaged with regulatory bodies to ensure compliance and adaptability to new regulations.\n",
            "   \n",
            "5. **Competition from Emerging Solutions**: Potential new entrants in the market could disrupt EduConnect's positioning. Mitigation: Continuously innovate and adapt services to exceed competitors' offerings.\n",
            "\n",
            "## 5. Strategic Recommendations\n",
            "1. **Develop a Flexible Pricing Model**: Implement subscription options that allow institutions to choose plans tailored to their specific needs, ensuring consistency in revenue.\n",
            "   \n",
            "2. **Enhance Marketing Efforts**: Use digital marketing campaigns targeting educational administrators to increase awareness of the platform.\n",
            "   \n",
            "3. **Focus on User Experience**: Continuously improve the platform's usability based on user feedback to ensure high satisfaction rates.\n",
            "   \n",
            "4. **Build Strategic Alliances**: Collaborate with educational content providers to enhance the platform's offerings and credibility.\n",
            "   \n",
            "5. **Expand After-Sales Support**: Invest in customer service to address issues swiftly and maintain strong relationships with users.\n",
            "   \n",
            "6. **Scale Engagement with Schools**: Create partnerships with various educational institutions to encourage adoption rates and gather more user insights.\n",
            "   \n",
            "7. **Leverage Data Analytics**: Utilize analytics to track user engagement and make data-driven decisions to refine the platform's features.\n",
            "   \n",
            "8. **Organize Educational Workshops**: Host workshops to promote digital literacy and familiarize institutions with EduConnect's benefits.\n",
            "   \n",
            "9. **Monitor Competitors**: Regularly conduct competitive analysis to stay informed about market changes and adapt strategies accordingly.\n",
            "   \n",
            "10. **Evaluate User Feedback**: Establish a systematic approach to collecting and incorporating user feedback to keep offerings relevant.\n",
            "\n",
            "## 6. Projected Market Share\n",
            "- **Year 1**: Expected market share of **15%**, equating to **$112,500** in revenue.\n",
            "- **Year 3**: Anticipated growth to **20%**, resulting in **$150,000** in revenue.\n",
            "- **Year 5**: Potential growth to **25%**, yielding **$187,500** in revenue.\n",
            "\n",
            "## 7. Key Market Trends\n",
            "- **Adoption of Document Management Technology**: A surge in institutions recognizing the importance of efficient document management systems for verification.\n",
            "- **Regulatory Upgrades**: Governments are pushing for improved verification practices in educational systems, resulting in increased budgets for compliance.\n",
            "- **Growth of Digital Learning Environments**: Increasing use of e-learning and blended educational approaches drives the demand for integrated verification solutions.\n",
            "\n",
            "### Potential Impact on EduConnect's Growth Trajectory\n",
            "These trends create a ripe market environment for EduConnect to capture and grow its user base while driving technological innovation in document verification.\n",
            "\n",
            "## 8. Analysis of Customer Segments and Needs\n",
            "The primary customer segments include:\n",
            "- **Universities**: Focused on credential verification for admissions and degrees.\n",
            "- **Vocational Schools**: Require verification for skill certifications.\n",
            "- **Government Agencies**: Seek reliable verification tools to support educational reforms.\n",
            "\n",
            "Each segment has unique needs, such as enhanced security, operational efficiency, and integration with existing systems, which EduConnect must address effectively.\n",
            "\n",
            "## 9. Competitive Landscape Overview\n",
            "The competitive landscape in the Ethiopian document verification market is relatively undeveloped; however, potential disruptors include new technology providers entering the space with advanced solutions. \n",
            "\n",
            "## 10. Summary of Go-To-Market Strategy\n",
            "EduConnect should initiate a phased approach that includes:\n",
            "- Establishing pilot programs with select institutions.\n",
            "- Targeted marketing campaigns to raise awareness.\n",
            "- Continuous engagement with end-users through feedback loops to optimize service delivery.\n",
            "\n",
            "**Key Milestones**:\n",
            "- Launch platform to selected institutions within **6 months**.\n",
            "- Achieve **20% market penetration** by the end of Year 2.\n",
            "\n",
            "**Success Metrics**:\n",
            "- Revenue growth to meet or exceed the projected SOM.\n",
            "- Customer acquisition rates increasing steadily each quarter.\n",
            "- Positive feedback seen through customer satisfaction surveys.\n",
            "\n",
            "This comprehensive market analysis provides a roadmap for EduConnect as it seeks to establish itself as a leader in document verification within Ethiopia's educational sector, leveraging existing opportunities while strategically navigating potential risks.\n"
          ]
        }
      ]
    }
  ]
}